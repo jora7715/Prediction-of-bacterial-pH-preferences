{
 "cells": [
  {
   "cell_type": "code",
   "execution_count": null,
   "id": "e22d95ea",
   "metadata": {},
   "outputs": [],
   "source": [
    "# Data wrangling\n",
    "import pandas as pd\n",
    "\n",
    "# Scientific\n",
    "import numpy as np\n",
    "\n",
    "# Machine learning\n",
    "try:\n",
    "    #import xgboost as xgb\n",
    "    from xgboost import XGBRegressor\n",
    "except:\n",
    "    !pip install xgboost\n",
    "    from xgboost import XGBRegressor\n",
    "    #import xgboost as xgb\n",
    "\n",
    "from sklearn.datasets import fetch_openml\n",
    "from sklearn.model_selection import train_test_split, RepeatedKFold, cross_val_score, RandomizedSearchCV\n",
    "from sklearn.metrics import roc_auc_score, accuracy_score, mean_squared_error, mean_absolute_error\n",
    "from sklearn.feature_selection import SelectFromModel\n",
    "from sklearn.inspection import permutation_importance\n",
    "from sklearn import preprocessing\n",
    "    \n",
    "try:\n",
    "    import shap\n",
    "except:\n",
    "    !pip install shap\n",
    "    import shap\n",
    "    \n",
    "# Graphics\n",
    "import matplotlib.pyplot as plt\n",
    "from matplotlib.pyplot import figure\n",
    "import seaborn as sns # for correlation heatmap\n",
    "\n",
    "#model loader\n",
    "import pickle"
   ]
  },
  {
   "cell_type": "code",
   "execution_count": null,
   "id": "37b1b984",
   "metadata": {},
   "outputs": [],
   "source": [
    "!pip install xgboost==1.6.2"
   ]
  },
  {
   "cell_type": "code",
   "execution_count": null,
   "id": "e56a950f",
   "metadata": {},
   "outputs": [],
   "source": [
    "seed=100\n",
    "\n",
    "filename = 'pH_model_2022-10-17_56_full.sav'\n",
    "model_perm_subset = pickle.load(open(filename, 'rb'))\n",
    "df = pd.read_csv('56_genes_pHpreference_soil_freshwater.csv')#TABLE THAT INCLUDES PH PREFERENCES AND THE PRESENCE/ABSENCE OF THE 56 GENES ASSOCIATED TO PH PREFERENCE"
   ]
  },
  {
   "cell_type": "code",
   "execution_count": null,
   "id": "f26de2cf",
   "metadata": {},
   "outputs": [],
   "source": [
    "gene_order = ['pH.preference','X5.FTHF_cyc.lig','AAA_25','AAA_assoc_C','AcetylCoA_hyd_C','ASH','Big_3_5','CitMHS','CpsB_CapC','CpXC','CsbD','Cys_rich_CPXG','Cytidylate_kin2','CytoC_RC',\n",
    "              'DHquinase_I','Exo_endo_phos','FAD_binding_7','Glucodextran_N','GWxTD_dom','HipA_2','HTH_37','HupF_HypC','HycI','HypD','Ig_GlcNase','KdpA','KdpC','KdpD','Lactonase','MCRA','Met_gamma_lyase',\n",
    "              'Methyltransf_4','MgtE','MNHE','MrpF_PhaF','OprB','Paired_CXXCH_1','PDZ_2','PGI','PhaG_MnhG_YufB','Phenol_MetA_deg','Phosphoesterase','Polbeta','PQQ','Pro.kuma_activ','SelO','SNase',\n",
    "              'SOUL','TctA','TelA','TFR_dimer','TPP_enzyme_C','TrbI','UvdE','WXXGXW','YHS','zf.CDGSH']\n",
    "\n",
    "df = df.reindex(columns=gene_order)\n",
    "df"
   ]
  },
  {
   "cell_type": "code",
   "execution_count": null,
   "id": "cbbd7418",
   "metadata": {},
   "outputs": [],
   "source": [
    "X, y = df.loc[:, df.columns != 'pH.preference'], df['pH.preference']\n",
    "X = df\n",
    "X"
   ]
  },
  {
   "cell_type": "code",
   "execution_count": null,
   "id": "da82fa5e",
   "metadata": {},
   "outputs": [],
   "source": [
    "# Predict the model\n",
    "#pred = model_perm_subset.predict(df)\n",
    "pred_perm_subset = model_perm_subset.predict(X)\n",
    "\n",
    "# MAE Computation\n",
    "#scores_MAE = mean_absolute_error(y, pred_perm_subset)\n",
    "#scores_MAE = mean_absolute_error(y, pred_perm_subset)\n",
    "\n",
    "# RMSE Computation\n",
    "#scores_RMSE = np.sqrt(mean_squared_error(y, pred_perm_subset))\n",
    "#print(\"RMSE : % f, MAE : % f\" % (scores_RMSE, scores_MAE))"
   ]
  },
  {
   "cell_type": "code",
   "execution_count": null,
   "id": "590e51d3",
   "metadata": {},
   "outputs": [],
   "source": [
    "pd.DataFrame(pred_perm_subset)\n",
    "pd.DataFrame(pred_perm_subset).to_csv('XXXXPredicted_pH_preferencesXXXX.csv')"
   ]
  }
 ],
 "metadata": {
  "kernelspec": {
   "display_name": "Python 3 (ipykernel)",
   "language": "python",
   "name": "python3"
  },
  "language_info": {
   "codemirror_mode": {
    "name": "ipython",
    "version": 3
   },
   "file_extension": ".py",
   "mimetype": "text/x-python",
   "name": "python",
   "nbconvert_exporter": "python",
   "pygments_lexer": "ipython3",
   "version": "3.8.10"
  }
 },
 "nbformat": 4,
 "nbformat_minor": 5
}
